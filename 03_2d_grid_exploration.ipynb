{
 "cells": [
  {
   "cell_type": "markdown",
   "id": "1",
   "metadata": {},
   "source": [
    "# 2D Grid Exploration\n",
    "\n",
    "Map grade level across a 2D grid of (α, β) coordinates to visualize where the discontinuity lives in activation space.\n",
    "\n",
    "**Method:**\n",
    "- Grid: α ∈ [-5, 5], β ∈ [-5, 5] in steps of 1.0\n",
    "- Total points: 11 × 11 = 121 generations (~12 minutes on MacBook)\n",
    "- Prompt: \"Can you explain quantum mechanics please?\"\n",
    "- Measure FK grade level at each (α, β)\n",
    "\n",
    "**Goal:** Visualize grade_level(α, β) as a heatmap. Where is the discontinuity from the 1D sweep? Is it a vertical line, a curve, or something weirder?"
   ]
  },
  {
   "cell_type": "code",
   "execution_count": 1,
   "id": "2",
   "metadata": {},
   "outputs": [],
   "source": [
    "import torch\n",
    "from transformers import AutoTokenizer, AutoModelForCausalLM\n",
    "import textstat\n",
    "import pandas as pd\n",
    "import matplotlib.pyplot as plt\n",
    "import numpy as np\n",
    "from datetime import datetime"
   ]
  },
  {
   "cell_type": "markdown",
   "id": "3",
   "metadata": {},
   "source": [
    "## Configuration"
   ]
  },
  {
   "cell_type": "code",
   "execution_count": 2,
   "id": "4",
   "metadata": {},
   "outputs": [
    {
     "name": "stdout",
     "output_type": "stream",
     "text": [
      "Device: cuda\n",
      "Grid size: 11 × 11 = 121 points\n"
     ]
    }
   ],
   "source": [
    "MODEL_NAME = \"unsloth/Llama-3.2-3B-Instruct\"\n",
    "DEVICE = \"mps\" if torch.backends.mps.is_available() else \"cuda\" if torch.cuda.is_available() else \"cpu\"\n",
    "STEERING_LAYER = 27\n",
    "\n",
    "# Grid configuration\n",
    "TEST_PROMPT = \"Can you explain quantum mechanics please?\"\n",
    "ALPHA_MIN = -5.0\n",
    "ALPHA_MAX = 5.0\n",
    "ALPHA_STEP = 1.0\n",
    "BETA_MIN = -5.0\n",
    "BETA_MAX = 5.0\n",
    "BETA_STEP = 1.0\n",
    "\n",
    "# Generation parameters\n",
    "MAX_NEW_TOKENS = 200\n",
    "\n",
    "print(f\"Device: {DEVICE}\")\n",
    "print(f\"Grid size: {int((ALPHA_MAX-ALPHA_MIN)/ALPHA_STEP + 1)} × {int((BETA_MAX-BETA_MIN)/BETA_STEP + 1)} = {int((ALPHA_MAX-ALPHA_MIN)/ALPHA_STEP + 1) * int((BETA_MAX-BETA_MIN)/BETA_STEP + 1)} points\")"
   ]
  },
  {
   "cell_type": "markdown",
   "id": "5",
   "metadata": {},
   "source": [
    "## Load model and vectors"
   ]
  },
  {
   "cell_type": "code",
   "execution_count": 3,
   "id": "6",
   "metadata": {},
   "outputs": [
    {
     "name": "stdout",
     "output_type": "stream",
     "text": [
      "Loading model: unsloth/Llama-3.2-3B-Instruct\n"
     ]
    },
    {
     "name": "stderr",
     "output_type": "stream",
     "text": [
      "`torch_dtype` is deprecated! Use `dtype` instead!\n"
     ]
    },
    {
     "data": {
      "application/vnd.jupyter.widget-view+json": {
       "model_id": "f42c641e6187417b93dc32cca06c6868",
       "version_major": 2,
       "version_minor": 0
      },
      "text/plain": [
       "Loading checkpoint shards:   0%|          | 0/2 [00:00<?, ?it/s]"
      ]
     },
     "metadata": {},
     "output_type": "display_data"
    },
    {
     "name": "stdout",
     "output_type": "stream",
     "text": [
      "✓ Model loaded\n"
     ]
    }
   ],
   "source": [
    "print(f\"Loading model: {MODEL_NAME}\")\n",
    "tokenizer = AutoTokenizer.from_pretrained(MODEL_NAME)\n",
    "model = AutoModelForCausalLM.from_pretrained(\n",
    "    MODEL_NAME,\n",
    "    torch_dtype=torch.bfloat16 if torch.cuda.is_available() or torch.backends.mps.is_available() else torch.float32,\n",
    "    device_map=\"auto\",\n",
    ")\n",
    "model.eval()\n",
    "print(\"✓ Model loaded\")"
   ]
  },
  {
   "cell_type": "code",
   "execution_count": 4,
   "id": "7",
   "metadata": {},
   "outputs": [
    {
     "name": "stdout",
     "output_type": "stream",
     "text": [
      "V_complexity shape: torch.Size([3072]), L2 norm: 9.8750\n",
      "V_perpendicular shape: torch.Size([3072]), L2 norm: 9.8750\n",
      "Dot product (should be ~0): 0.00066375732421875\n"
     ]
    }
   ],
   "source": [
    "# Load vectors\n",
    "vectors = torch.load('vectors/complexity_vectors.pt')\n",
    "v_complexity = vectors[STEERING_LAYER]\n",
    "v_perpendicular = torch.load('vectors/perpendicular_vector.pt')\n",
    "\n",
    "print(f\"V_complexity shape: {v_complexity.shape}, L2 norm: {torch.norm(v_complexity).item():.4f}\")\n",
    "print(f\"V_perpendicular shape: {v_perpendicular.shape}, L2 norm: {torch.norm(v_perpendicular).item():.4f}\")\n",
    "\n",
    "# Verify orthogonality\n",
    "dot_product = torch.dot(v_complexity, v_perpendicular).item()\n",
    "print(f\"Dot product (should be ~0): {dot_product}\")"
   ]
  },
  {
   "cell_type": "markdown",
   "id": "8",
   "metadata": {},
   "source": [
    "## Steering functions"
   ]
  },
  {
   "cell_type": "code",
   "execution_count": 5,
   "id": "9",
   "metadata": {},
   "outputs": [
    {
     "name": "stdout",
     "output_type": "stream",
     "text": [
      "✓ Functions defined\n"
     ]
    }
   ],
   "source": [
    "def generate_with_steering(prompt, alpha, beta):\n",
    "    \"\"\"Generate text with 2D steering: alpha * V_complexity + beta * V_perpendicular.\"\"\"\n",
    "    # Format prompt using chat template\n",
    "    messages = [{\"role\": \"user\", \"content\": prompt}]\n",
    "    formatted_prompt = tokenizer.apply_chat_template(\n",
    "        messages,\n",
    "        tokenize=False,\n",
    "        add_generation_prompt=True\n",
    "    )\n",
    "    \n",
    "    inputs = tokenizer(formatted_prompt, return_tensors=\"pt\")\n",
    "    inputs = {k: v.to(model.device) for k, v in inputs.items()}\n",
    "    \n",
    "    # Compute combined steering vector\n",
    "    steering_vector = (alpha * v_complexity + beta * v_perpendicular).to(model.device)\n",
    "    \n",
    "    # Define steering hook\n",
    "    def steering_hook(module, input, output):\n",
    "        if isinstance(output, tuple):\n",
    "            hidden_states = output[0]\n",
    "        else:\n",
    "            hidden_states = output\n",
    "        steered = hidden_states + steering_vector.unsqueeze(0).unsqueeze(0)\n",
    "        if isinstance(output, tuple):\n",
    "            return (steered,) + output[1:]\n",
    "        else:\n",
    "            return steered\n",
    "    \n",
    "    # Register hook\n",
    "    hook_handle = model.model.layers[STEERING_LAYER].register_forward_hook(steering_hook)\n",
    "    \n",
    "    try:\n",
    "        with torch.no_grad():\n",
    "            outputs = model.generate(\n",
    "                **inputs,\n",
    "                max_new_tokens=MAX_NEW_TOKENS,\n",
    "                do_sample=False,  # Greedy decoding for reproducibility\n",
    "            )\n",
    "        full_text = tokenizer.decode(outputs[0], skip_special_tokens=True)\n",
    "    finally:\n",
    "        hook_handle.remove()\n",
    "    \n",
    "    # Extract assistant response\n",
    "    if \"<|start_header_id|>assistant<|end_header_id|>\" in full_text:\n",
    "        generated_text = full_text.split(\"<|start_header_id|>assistant<|end_header_id|>\", 1)[1]\n",
    "        generated_text = generated_text.lstrip('\\n')\n",
    "    else:\n",
    "        generated_text = full_text[len(prompt):].strip()\n",
    "    \n",
    "    # Clean up special tokens\n",
    "    for token in [\"<|eot_id|>\", \"<|end_of_text|>\", \"<|im_end|>\", \"<|endoftext|>\"]:\n",
    "        if token in generated_text:\n",
    "            generated_text = generated_text.split(token)[0]\n",
    "    \n",
    "    return generated_text.strip()\n",
    "\n",
    "\n",
    "def analyze_text(text):\n",
    "    \"\"\"Compute FK grade level and other metrics.\"\"\"\n",
    "    if not text or len(text.strip()) < 10:\n",
    "        return {\n",
    "            'flesch_kincaid_grade': 0.0,\n",
    "            'word_count': 0,\n",
    "            'sentence_count': 0,\n",
    "        }\n",
    "    \n",
    "    try:\n",
    "        return {\n",
    "            'flesch_kincaid_grade': textstat.flesch_kincaid_grade(text),\n",
    "            'word_count': textstat.lexicon_count(text, removepunct=True),\n",
    "            'sentence_count': textstat.sentence_count(text),\n",
    "        }\n",
    "    except:\n",
    "        return {\n",
    "            'flesch_kincaid_grade': 0.0,\n",
    "            'word_count': 0,\n",
    "            'sentence_count': 0,\n",
    "        }\n",
    "\n",
    "print(\"✓ Functions defined\")"
   ]
  },
  {
   "cell_type": "markdown",
   "id": "10",
   "metadata": {},
   "source": [
    "## Run the 2D grid sweep"
   ]
  },
  {
   "cell_type": "code",
   "execution_count": 6,
   "id": "11",
   "metadata": {},
   "outputs": [
    {
     "name": "stderr",
     "output_type": "stream",
     "text": [
      "The following generation flags are not valid and may be ignored: ['temperature', 'top_p']. Set `TRANSFORMERS_VERBOSITY=info` for more details.\n"
     ]
    },
    {
     "name": "stdout",
     "output_type": "stream",
     "text": [
      "Starting 2D grid sweep at 19:40:34\n",
      "Grid: α ∈ [-5.0, 5.0], β ∈ [-5.0, 5.0]\n",
      "\n",
      "[1/121] (α=-5.0, β=-5.0)... GL=48.6\n",
      "[2/121] (α=-5.0, β=-4.0)... GL=37.7\n",
      "[3/121] (α=-5.0, β=-3.0)... GL=34.7\n",
      "[4/121] (α=-5.0, β=-2.0)... GL=49.0\n",
      "[5/121] (α=-5.0, β=-1.0)... GL=49.0\n",
      "[6/121] (α=-5.0, β=+0.0)... GL=48.8\n",
      "[7/121] (α=-5.0, β=+1.0)... GL=48.8\n",
      "[8/121] (α=-5.0, β=+2.0)... GL=49.1\n",
      "[9/121] (α=-5.0, β=+3.0)... GL=49.1\n",
      "[10/121] (α=-5.0, β=+4.0)... GL=49.1\n",
      "[11/121] (α=-5.0, β=+5.0)... GL=43.7\n",
      "[12/121] (α=-4.0, β=-5.0)... GL=15.5\n",
      "[13/121] (α=-4.0, β=-4.0)... GL=15.5\n",
      "[14/121] (α=-4.0, β=-3.0)... GL=26.9\n",
      "[15/121] (α=-4.0, β=-2.0)... GL=49.0\n",
      "[16/121] (α=-4.0, β=-1.0)... GL=49.0\n",
      "[17/121] (α=-4.0, β=+0.0)... GL=48.8\n",
      "[18/121] (α=-4.0, β=+1.0)... GL=42.1\n",
      "[19/121] (α=-4.0, β=+2.0)... GL=25.8\n",
      "[20/121] (α=-4.0, β=+3.0)... GL=26.0\n",
      "[21/121] (α=-4.0, β=+4.0)... GL=42.2\n",
      "[22/121] (α=-4.0, β=+5.0)... GL=43.2\n",
      "[23/121] (α=-3.0, β=-5.0)... GL=17.4\n",
      "[24/121] (α=-3.0, β=-4.0)... GL=7.3\n",
      "[25/121] (α=-3.0, β=-3.0)... GL=9.2\n",
      "[26/121] (α=-3.0, β=-2.0)... GL=12.1\n",
      "[27/121] (α=-3.0, β=-1.0)... GL=33.9\n",
      "[28/121] (α=-3.0, β=+0.0)... GL=7.9\n",
      "[29/121] (α=-3.0, β=+1.0)... GL=6.9\n",
      "[30/121] (α=-3.0, β=+2.0)... GL=6.9\n",
      "[31/121] (α=-3.0, β=+3.0)... GL=34.4\n",
      "[32/121] (α=-3.0, β=+4.0)... GL=14.0\n",
      "[33/121] (α=-3.0, β=+5.0)... GL=38.5\n",
      "[34/121] (α=-2.0, β=-5.0)... GL=9.6\n",
      "[35/121] (α=-2.0, β=-4.0)... GL=11.0\n",
      "[36/121] (α=-2.0, β=-3.0)... GL=10.1\n",
      "[37/121] (α=-2.0, β=-2.0)... GL=10.5\n",
      "[38/121] (α=-2.0, β=-1.0)... GL=11.4\n",
      "[39/121] (α=-2.0, β=+0.0)... GL=10.2\n",
      "[40/121] (α=-2.0, β=+1.0)... GL=10.8\n",
      "[41/121] (α=-2.0, β=+2.0)... GL=7.7\n",
      "[42/121] (α=-2.0, β=+3.0)... GL=9.7\n",
      "[43/121] (α=-2.0, β=+4.0)... GL=8.6\n",
      "[44/121] (α=-2.0, β=+5.0)... GL=11.4\n",
      "[45/121] (α=-1.0, β=-5.0)... GL=13.3\n",
      "[46/121] (α=-1.0, β=-4.0)... GL=12.6\n",
      "[47/121] (α=-1.0, β=-3.0)... GL=11.8\n",
      "[48/121] (α=-1.0, β=-2.0)... GL=12.4\n",
      "[49/121] (α=-1.0, β=-1.0)... GL=13.1\n",
      "[50/121] (α=-1.0, β=+0.0)... GL=13.8\n",
      "[51/121] (α=-1.0, β=+1.0)... GL=13.7\n",
      "[52/121] (α=-1.0, β=+2.0)... GL=13.8\n",
      "[53/121] (α=-1.0, β=+3.0)... GL=13.5\n",
      "[54/121] (α=-1.0, β=+4.0)... GL=10.4\n",
      "[55/121] (α=-1.0, β=+5.0)... GL=11.7\n",
      "[56/121] (α=+0.0, β=-5.0)... GL=13.4\n",
      "[57/121] (α=+0.0, β=-4.0)... GL=12.8\n",
      "[58/121] (α=+0.0, β=-3.0)... GL=12.3\n",
      "[59/121] (α=+0.0, β=-2.0)... GL=12.6\n",
      "[60/121] (α=+0.0, β=-1.0)... GL=11.8\n",
      "[61/121] (α=+0.0, β=+0.0)... GL=14.4\n",
      "[62/121] (α=+0.0, β=+1.0)... GL=13.7\n",
      "[63/121] (α=+0.0, β=+2.0)... GL=11.0\n",
      "[64/121] (α=+0.0, β=+3.0)... GL=10.8\n",
      "[65/121] (α=+0.0, β=+4.0)... GL=11.2\n",
      "[66/121] (α=+0.0, β=+5.0)... GL=10.8\n",
      "[67/121] (α=+1.0, β=-5.0)... GL=13.9\n",
      "[68/121] (α=+1.0, β=-4.0)... GL=12.9\n",
      "[69/121] (α=+1.0, β=-3.0)... GL=12.6\n",
      "[70/121] (α=+1.0, β=-2.0)... GL=12.7\n",
      "[71/121] (α=+1.0, β=-1.0)... GL=12.2\n",
      "[72/121] (α=+1.0, β=+0.0)... GL=11.5\n",
      "[73/121] (α=+1.0, β=+1.0)... GL=11.3\n",
      "[74/121] (α=+1.0, β=+2.0)... GL=11.3\n",
      "[75/121] (α=+1.0, β=+3.0)... GL=11.4\n",
      "[76/121] (α=+1.0, β=+4.0)... GL=12.8\n",
      "[77/121] (α=+1.0, β=+5.0)... GL=13.3\n",
      "[78/121] (α=+2.0, β=-5.0)... GL=12.7\n",
      "[79/121] (α=+2.0, β=-4.0)... GL=14.1\n",
      "[80/121] (α=+2.0, β=-3.0)... GL=12.9\n",
      "[81/121] (α=+2.0, β=-2.0)... GL=12.8\n",
      "[82/121] (α=+2.0, β=-1.0)... GL=12.6\n",
      "[83/121] (α=+2.0, β=+0.0)... GL=12.9\n",
      "[84/121] (α=+2.0, β=+1.0)... GL=12.9\n",
      "[85/121] (α=+2.0, β=+2.0)... GL=13.8\n",
      "[86/121] (α=+2.0, β=+3.0)... GL=13.8\n",
      "[87/121] (α=+2.0, β=+4.0)... GL=13.6\n",
      "[88/121] (α=+2.0, β=+5.0)... GL=38.0\n",
      "[89/121] (α=+3.0, β=-5.0)... GL=49.6\n",
      "[90/121] (α=+3.0, β=-4.0)... GL=63.0\n",
      "[91/121] (α=+3.0, β=-3.0)... GL=47.6\n",
      "[92/121] (α=+3.0, β=-2.0)... GL=14.7\n",
      "[93/121] (α=+3.0, β=-1.0)... GL=15.3\n",
      "[94/121] (α=+3.0, β=+0.0)... GL=15.8\n",
      "[95/121] (α=+3.0, β=+1.0)... GL=16.6\n",
      "[96/121] (α=+3.0, β=+2.0)... GL=18.1\n",
      "[97/121] (α=+3.0, β=+3.0)... GL=19.6\n",
      "[98/121] (α=+3.0, β=+4.0)... GL=38.0\n",
      "[99/121] (α=+3.0, β=+5.0)... GL=38.0\n",
      "[100/121] (α=+4.0, β=-5.0)... GL=70.9\n",
      "[101/121] (α=+4.0, β=-4.0)... GL=64.9\n",
      "[102/121] (α=+4.0, β=-3.0)... GL=64.9\n",
      "[103/121] (α=+4.0, β=-2.0)... GL=69.9\n",
      "[104/121] (α=+4.0, β=-1.0)... GL=69.9\n",
      "[105/121] (α=+4.0, β=+0.0)... GL=69.3\n",
      "[106/121] (α=+4.0, β=+1.0)... GL=64.0\n",
      "[107/121] (α=+4.0, β=+2.0)... GL=63.1\n",
      "[108/121] (α=+4.0, β=+3.0)... GL=38.0\n",
      "[109/121] (α=+4.0, β=+4.0)... GL=38.0\n",
      "[110/121] (α=+4.0, β=+5.0)... GL=38.0\n",
      "[111/121] (α=+5.0, β=-5.0)... GL=60.2\n",
      "[112/121] (α=+5.0, β=-4.0)... GL=62.8\n",
      "[113/121] (α=+5.0, β=-3.0)... GL=65.4\n",
      "[114/121] (α=+5.0, β=-2.0)... GL=70.7\n",
      "[115/121] (α=+5.0, β=-1.0)... GL=70.7\n",
      "[116/121] (α=+5.0, β=+0.0)... GL=81.5\n",
      "[117/121] (α=+5.0, β=+1.0)... GL=70.7\n",
      "[118/121] (α=+5.0, β=+2.0)... GL=70.4\n",
      "[119/121] (α=+5.0, β=+3.0)... GL=62.2\n",
      "[120/121] (α=+5.0, β=+4.0)... GL=40.2\n",
      "[121/121] (α=+5.0, β=+5.0)... GL=59.7\n",
      "\n",
      "✓ Grid sweep complete in 5.3 minutes\n"
     ]
    }
   ],
   "source": [
    "start_time = datetime.now()\n",
    "print(f\"Starting 2D grid sweep at {start_time.strftime('%H:%M:%S')}\")\n",
    "print(f\"Grid: α ∈ [{ALPHA_MIN}, {ALPHA_MAX}], β ∈ [{BETA_MIN}, {BETA_MAX}]\\n\")\n",
    "\n",
    "alphas = np.arange(ALPHA_MIN, ALPHA_MAX + ALPHA_STEP/2, ALPHA_STEP)\n",
    "betas = np.arange(BETA_MIN, BETA_MAX + BETA_STEP/2, BETA_STEP)\n",
    "\n",
    "results = []\n",
    "total_points = len(alphas) * len(betas)\n",
    "current_point = 0\n",
    "\n",
    "for alpha in alphas:\n",
    "    for beta in betas:\n",
    "        current_point += 1\n",
    "        print(f\"[{current_point}/{total_points}] (α={alpha:+.1f}, β={beta:+.1f})...\", end=\" \")\n",
    "        \n",
    "        # Generate text\n",
    "        text = generate_with_steering(TEST_PROMPT, alpha, beta)\n",
    "        \n",
    "        # Analyze\n",
    "        metrics = analyze_text(text)\n",
    "        \n",
    "        # Store\n",
    "        results.append({\n",
    "            'alpha': alpha,\n",
    "            'beta': beta,\n",
    "            'generated_text': text,\n",
    "            **metrics\n",
    "        })\n",
    "        \n",
    "        print(f\"GL={metrics['flesch_kincaid_grade']:.1f}\")\n",
    "\n",
    "df = pd.DataFrame(results)\n",
    "end_time = datetime.now()\n",
    "elapsed = (end_time - start_time).total_seconds() / 60\n",
    "\n",
    "print(f\"\\n✓ Grid sweep complete in {elapsed:.1f} minutes\")"
   ]
  },
  {
   "cell_type": "markdown",
   "id": "12",
   "metadata": {},
   "source": [
    "## Visualize 2D heatmap"
   ]
  },
  {
   "cell_type": "code",
   "execution_count": 7,
   "id": "13",
   "metadata": {},
   "outputs": [
    {
     "data": {
      "image/png": "[encoded data removed]",
      "text/plain": [
       "<Figure size 1200x1000 with 2 Axes>"
      ]
     },
     "metadata": {},
     "output_type": "display_data"
    },
    {
     "name": "stdout",
     "output_type": "stream",
     "text": [
      "\n",
      "Grade level range: 6.9 to 81.5\n"
     ]
    }
   ],
   "source": [
    "# Reshape data into 2D grid for heatmap\n",
    "pivot = df.pivot(index='beta', columns='alpha', values='flesch_kincaid_grade')\n",
    "\n",
    "# Create heatmap\n",
    "fig, ax = plt.subplots(figsize=(12, 10))\n",
    "im = ax.imshow(pivot, cmap='viridis', aspect='auto', origin='lower',\n",
    "               extent=[ALPHA_MIN, ALPHA_MAX, BETA_MIN, BETA_MAX])\n",
    "\n",
    "# Overlay the discontinuity from 1D data (α ≈ 0.25)\n",
    "ax.axvline(0.25, color='red', linestyle='--', linewidth=2, alpha=0.7, label='1D Discontinuity (α≈0.25)')\n",
    "\n",
    "# Labels and formatting\n",
    "ax.set_xlabel('α (Complexity Steering Coefficient)', fontsize=14)\n",
    "ax.set_ylabel('β (Perpendicular Steering Coefficient)', fontsize=14)\n",
    "ax.set_title('Flesch-Kincaid Grade Level in 2D Activation Space', fontsize=16, fontweight='bold')\n",
    "\n",
    "# Colorbar\n",
    "cbar = plt.colorbar(im, ax=ax)\n",
    "cbar.set_label('Grade Level', fontsize=12)\n",
    "\n",
    "# Legend\n",
    "ax.legend(loc='upper left')\n",
    "\n",
    "plt.tight_layout()\n",
    "plt.show()\n",
    "\n",
    "print(f\"\\nGrade level range: {df['flesch_kincaid_grade'].min():.1f} to {df['flesch_kincaid_grade'].max():.1f}\")"
   ]
  },
  {
   "cell_type": "markdown",
   "id": "14",
   "metadata": {},
   "source": [
    "## Save results"
   ]
  },
  {
   "cell_type": "code",
   "execution_count": 8,
   "id": "15",
   "metadata": {},
   "outputs": [
    {
     "name": "stdout",
     "output_type": "stream",
     "text": [
      "✓ Saved to data/2d_grid_results.csv\n"
     ]
    }
   ],
   "source": [
    "df.to_csv('data/2d_grid_results.csv', index=False)\n",
    "print(\"✓ Saved to data/2d_grid_results.csv\")"
   ]
  }
 ],
 "metadata": {
  "kernelspec": {
   "display_name": "Python 3 (ipykernel)",
   "language": "python",
   "name": "python3"
  },
  "language_info": {
   "codemirror_mode": {
    "name": "ipython",
    "version": 3
   },
   "file_extension": ".py",
   "mimetype": "text/x-python",
   "name": "python",
   "nbconvert_exporter": "python",
   "pygments_lexer": "ipython3",
   "version": "3.12.3"
  }
 },
 "nbformat": 4,
 "nbformat_minor": 5
}
