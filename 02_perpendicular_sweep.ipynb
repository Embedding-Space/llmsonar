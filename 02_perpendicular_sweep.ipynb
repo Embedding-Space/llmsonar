{
 "cells": [
  {
   "cell_type": "markdown",
   "id": "1",
   "metadata": {},
   "source": [
    "# Perpendicular Direction Sweep\n",
    "\n",
    "Test whether grade level changes along the perpendicular direction.\n",
    "\n",
    "**Hypothesis:** Since V_perpendicular is orthogonal to V_complexity, steering along it (varying β while holding α=0) should NOT significantly affect grade level.\n",
    "\n",
    "**Method:**\n",
    "- Prompt: \"Can you explain quantum mechanics please?\"\n",
    "- α = 0.0 (no steering along complexity)\n",
    "- β = -5.0 to 5.0 in steps of 1.0\n",
    "- Measure FK grade level at each β\n",
    "\n",
    "**Expected result:** Flat line (grade level ~12-14 based on baseline)"
   ]
  },
  {
   "cell_type": "code",
   "execution_count": 17,
   "id": "2",
   "metadata": {},
   "outputs": [],
   "source": [
    "import torch\n",
    "from transformers import AutoTokenizer, AutoModelForCausalLM\n",
    "import textstat\n",
    "import pandas as pd\n",
    "import matplotlib.pyplot as plt\n",
    "import numpy as np"
   ]
  },
  {
   "cell_type": "markdown",
   "id": "3",
   "metadata": {},
   "source": [
    "## Configuration"
   ]
  },
  {
   "cell_type": "code",
   "execution_count": 18,
   "id": "4",
   "metadata": {},
   "outputs": [
    {
     "name": "stdout",
     "output_type": "stream",
     "text": [
      "Device: mps\n"
     ]
    }
   ],
   "source": [
    "MODEL_NAME = \"unsloth/Llama-3.2-3B-Instruct\"\n",
    "DEVICE = \"mps\" if torch.backends.mps.is_available() else \"cuda\" if torch.cuda.is_available() else \"cpu\"\n",
    "STEERING_LAYER = 27\n",
    "\n",
    "# Test configuration\n",
    "TEST_PROMPT = \"Can you explain quantum mechanics please?\"\n",
    "ALPHA = 0.0  # No steering along complexity\n",
    "BETA_MIN = -10.0\n",
    "BETA_MAX = 10.0\n",
    "BETA_STEP = 1.0\n",
    "\n",
    "# Generation parameters\n",
    "MAX_NEW_TOKENS = 200\n",
    "\n",
    "print(f\"Device: {DEVICE}\")"
   ]
  },
  {
   "cell_type": "markdown",
   "id": "5",
   "metadata": {},
   "source": [
    "## Load model and vectors"
   ]
  },
  {
   "cell_type": "code",
   "execution_count": 19,
   "id": "6",
   "metadata": {},
   "outputs": [
    {
     "name": "stdout",
     "output_type": "stream",
     "text": [
      "Loading model: unsloth/Llama-3.2-3B-Instruct\n"
     ]
    },
    {
     "data": {
      "application/vnd.jupyter.widget-view+json": {
       "model_id": "a8f3b11f324742ec8b0c69910a0ce0cd",
       "version_major": 2,
       "version_minor": 0
      },
      "text/plain": [
       "Loading checkpoint shards:   0%|          | 0/2 [00:00<?, ?it/s]"
      ]
     },
     "metadata": {},
     "output_type": "display_data"
    },
    {
     "name": "stdout",
     "output_type": "stream",
     "text": [
      "✓ Model loaded\n"
     ]
    }
   ],
   "source": [
    "print(f\"Loading model: {MODEL_NAME}\")\n",
    "tokenizer = AutoTokenizer.from_pretrained(MODEL_NAME)\n",
    "model = AutoModelForCausalLM.from_pretrained(\n",
    "    MODEL_NAME,\n",
    "    torch_dtype=torch.bfloat16 if torch.cuda.is_available() or torch.backends.mps.is_available() else torch.float32,\n",
    "    device_map=\"auto\",\n",
    ")\n",
    "model.eval()\n",
    "print(\"✓ Model loaded\")"
   ]
  },
  {
   "cell_type": "code",
   "execution_count": 20,
   "id": "7",
   "metadata": {},
   "outputs": [
    {
     "name": "stdout",
     "output_type": "stream",
     "text": [
      "V_complexity shape: torch.Size([3072]), L2 norm: 9.8750\n",
      "V_perpendicular shape: torch.Size([3072]), L2 norm: 9.8750\n",
      "Dot product (should be ~0): 0.00066375732421875\n"
     ]
    }
   ],
   "source": [
    "# Load vectors\n",
    "vectors = torch.load('vectors/complexity_vectors.pt')\n",
    "v_complexity = vectors[STEERING_LAYER]\n",
    "v_perpendicular = torch.load('vectors/perpendicular_vector.pt')\n",
    "\n",
    "print(f\"V_complexity shape: {v_complexity.shape}, L2 norm: {torch.norm(v_complexity).item():.4f}\")\n",
    "print(f\"V_perpendicular shape: {v_perpendicular.shape}, L2 norm: {torch.norm(v_perpendicular).item():.4f}\")\n",
    "\n",
    "# Verify orthogonality\n",
    "dot_product = torch.dot(v_complexity, v_perpendicular).item()\n",
    "print(f\"Dot product (should be ~0): {dot_product}\")"
   ]
  },
  {
   "cell_type": "markdown",
   "id": "8",
   "metadata": {},
   "source": [
    "## Steering functions"
   ]
  },
  {
   "cell_type": "code",
   "execution_count": 21,
   "id": "9",
   "metadata": {},
   "outputs": [
    {
     "name": "stdout",
     "output_type": "stream",
     "text": [
      "✓ Functions defined\n"
     ]
    }
   ],
   "source": [
    "def generate_with_steering(prompt, alpha, beta):\n",
    "    \"\"\"Generate text with 2D steering: alpha * V_complexity + beta * V_perpendicular.\"\"\"\n",
    "    # Format prompt using chat template\n",
    "    messages = [{\"role\": \"user\", \"content\": prompt}]\n",
    "    formatted_prompt = tokenizer.apply_chat_template(\n",
    "        messages,\n",
    "        tokenize=False,\n",
    "        add_generation_prompt=True\n",
    "    )\n",
    "    \n",
    "    inputs = tokenizer(formatted_prompt, return_tensors=\"pt\")\n",
    "    inputs = {k: v.to(model.device) for k, v in inputs.items()}\n",
    "    \n",
    "    # Compute combined steering vector\n",
    "    steering_vector = (alpha * v_complexity + beta * v_perpendicular).to(model.device)\n",
    "    \n",
    "    # Define steering hook\n",
    "    def steering_hook(module, input, output):\n",
    "        if isinstance(output, tuple):\n",
    "            hidden_states = output[0]\n",
    "        else:\n",
    "            hidden_states = output\n",
    "        steered = hidden_states + steering_vector.unsqueeze(0).unsqueeze(0)\n",
    "        if isinstance(output, tuple):\n",
    "            return (steered,) + output[1:]\n",
    "        else:\n",
    "            return steered\n",
    "    \n",
    "    # Register hook\n",
    "    hook_handle = model.model.layers[STEERING_LAYER].register_forward_hook(steering_hook)\n",
    "    \n",
    "    try:\n",
    "        with torch.no_grad():\n",
    "            outputs = model.generate(\n",
    "                **inputs,\n",
    "                max_new_tokens=MAX_NEW_TOKENS,\n",
    "                do_sample=False,  # Greedy decoding for reproducibility\n",
    "            )\n",
    "        full_text = tokenizer.decode(outputs[0], skip_special_tokens=True)\n",
    "    finally:\n",
    "        hook_handle.remove()\n",
    "    \n",
    "    # Extract assistant response\n",
    "    if \"<|start_header_id|>assistant<|end_header_id|>\" in full_text:\n",
    "        generated_text = full_text.split(\"<|start_header_id|>assistant<|end_header_id|>\", 1)[1]\n",
    "        generated_text = generated_text.lstrip('\\n')\n",
    "    else:\n",
    "        generated_text = full_text[len(prompt):].strip()\n",
    "    \n",
    "    # Clean up special tokens\n",
    "    for token in [\"<|eot_id|>\", \"<|end_of_text|>\", \"<|im_end|>\", \"<|endoftext|>\"]:\n",
    "        if token in generated_text:\n",
    "            generated_text = generated_text.split(token)[0]\n",
    "    \n",
    "    return generated_text.strip()\n",
    "\n",
    "\n",
    "def analyze_text(text):\n",
    "    \"\"\"Compute FK grade level and other metrics.\"\"\"\n",
    "    if not text or len(text.strip()) < 10:\n",
    "        return {\n",
    "            'flesch_kincaid_grade': 0.0,\n",
    "            'word_count': 0,\n",
    "            'sentence_count': 0,\n",
    "        }\n",
    "    \n",
    "    try:\n",
    "        return {\n",
    "            'flesch_kincaid_grade': textstat.flesch_kincaid_grade(text),\n",
    "            'word_count': textstat.lexicon_count(text, removepunct=True),\n",
    "            'sentence_count': textstat.sentence_count(text),\n",
    "        }\n",
    "    except:\n",
    "        return {\n",
    "            'flesch_kincaid_grade': 0.0,\n",
    "            'word_count': 0,\n",
    "            'sentence_count': 0,\n",
    "        }\n",
    "\n",
    "print(\"✓ Functions defined\")"
   ]
  },
  {
   "cell_type": "markdown",
   "id": "10",
   "metadata": {},
   "source": [
    "## Run the sweep"
   ]
  },
  {
   "cell_type": "code",
   "execution_count": 22,
   "id": "11",
   "metadata": {},
   "outputs": [
    {
     "name": "stdout",
     "output_type": "stream",
     "text": [
      "Running perpendicular sweep: β from -10.0 to 10.0, α = 0.0\n",
      "\n",
      "β = -10.0...\n",
      "  Grade level: 60.3, Words: 213\n",
      "\n",
      "β = -9.0...\n",
      "  Grade level: 60.3, Words: 213\n",
      "\n",
      "β = -8.0...\n",
      "  Grade level: 37.8, Words: 210\n",
      "\n",
      "β = -7.0...\n",
      "  Grade level: 12.8, Words: 154\n",
      "\n",
      "β = -6.0...\n",
      "  Grade level: 12.9, Words: 153\n",
      "\n",
      "β = -5.0...\n",
      "  Grade level: 13.4, Words: 155\n",
      "\n",
      "β = -4.0...\n",
      "  Grade level: 12.8, Words: 158\n",
      "\n",
      "β = -3.0...\n",
      "  Grade level: 12.3, Words: 151\n",
      "\n",
      "β = -2.0...\n",
      "  Grade level: 12.6, Words: 161\n",
      "\n",
      "β = -1.0...\n",
      "  Grade level: 14.3, Words: 156\n",
      "\n",
      "β = +0.0...\n",
      "  Grade level: 14.4, Words: 156\n",
      "\n",
      "β = +1.0...\n",
      "  Grade level: 13.7, Words: 161\n",
      "\n",
      "β = +2.0...\n",
      "  Grade level: 13.7, Words: 161\n",
      "\n",
      "β = +3.0...\n",
      "  Grade level: 10.8, Words: 169\n",
      "\n",
      "β = +4.0...\n",
      "  Grade level: 11.2, Words: 165\n",
      "\n",
      "β = +5.0...\n",
      "  Grade level: 10.8, Words: 166\n",
      "\n",
      "β = +6.0...\n",
      "  Grade level: 10.9, Words: 158\n",
      "\n",
      "β = +7.0...\n",
      "  Grade level: 12.6, Words: 152\n",
      "\n",
      "β = +8.0...\n",
      "  Grade level: 46.9, Words: 208\n",
      "\n",
      "β = +9.0...\n",
      "  Grade level: 49.0, Words: 210\n",
      "\n",
      "β = +10.0...\n",
      "  Grade level: 343.9, Words: 14\n",
      "\n",
      "✓ Sweep complete\n"
     ]
    }
   ],
   "source": [
    "print(f\"Running perpendicular sweep: β from {BETA_MIN} to {BETA_MAX}, α = {ALPHA}\\n\")\n",
    "\n",
    "betas = np.arange(BETA_MIN, BETA_MAX + BETA_STEP/2, BETA_STEP)\n",
    "results = []\n",
    "\n",
    "for beta in betas:\n",
    "    print(f\"β = {beta:+.1f}...\")\n",
    "    \n",
    "    # Generate text\n",
    "    text = generate_with_steering(TEST_PROMPT, ALPHA, beta)\n",
    "    \n",
    "    # Analyze\n",
    "    metrics = analyze_text(text)\n",
    "    \n",
    "    # Store\n",
    "    results.append({\n",
    "        'beta': beta,\n",
    "        'alpha': ALPHA,\n",
    "        'generated_text': text,\n",
    "        **metrics\n",
    "    })\n",
    "    \n",
    "    print(f\"  Grade level: {metrics['flesch_kincaid_grade']:.1f}, Words: {metrics['word_count']}\\n\")\n",
    "\n",
    "df = pd.DataFrame(results)\n",
    "print(\"✓ Sweep complete\")"
   ]
  },
  {
   "cell_type": "markdown",
   "id": "12",
   "metadata": {},
   "source": [
    "## Visualize results"
   ]
  },
  {
   "cell_type": "code",
   "execution_count": 23,
   "id": "13",
   "metadata": {},
   "outputs": [
    {
     "data": {
      "image/png": "[encoded data removed]",
      "text/plain": [
       "<Figure size 1000x600 with 1 Axes>"
      ]
     },
     "metadata": {},
     "output_type": "display_data"
    },
    {
     "name": "stdout",
     "output_type": "stream",
     "text": [
      "\n",
      "Grade level range: 10.8 to 343.9\n",
      "Baseline (β=0): 14.4\n"
     ]
    }
   ],
   "source": [
    "plt.figure(figsize=(10, 6))\n",
    "plt.plot(df['beta'], df['flesch_kincaid_grade'], marker='o', linewidth=2, markersize=8)\n",
    "plt.axhline(df[df['beta'] == 0.0]['flesch_kincaid_grade'].values[0], \n",
    "            color='red', linestyle='--', alpha=0.5, label='Baseline (β=0)')\n",
    "plt.xlabel('β (Perpendicular Steering Coefficient)', fontsize=12)\n",
    "plt.ylabel('Flesch-Kincaid Grade Level', fontsize=12)\n",
    "plt.title(f'Grade Level vs Perpendicular Steering (α={ALPHA})', fontsize=14, fontweight='bold')\n",
    "plt.grid(True, alpha=0.3)\n",
    "plt.legend()\n",
    "plt.tight_layout()\n",
    "plt.show()\n",
    "\n",
    "print(f\"\\nGrade level range: {df['flesch_kincaid_grade'].min():.1f} to {df['flesch_kincaid_grade'].max():.1f}\")\n",
    "print(f\"Baseline (β=0): {df[df['beta'] == 0.0]['flesch_kincaid_grade'].values[0]:.1f}\")"
   ]
  },
  {
   "cell_type": "markdown",
   "id": "14",
   "metadata": {},
   "source": [
    "## Save results"
   ]
  },
  {
   "cell_type": "code",
   "execution_count": 24,
   "id": "15",
   "metadata": {},
   "outputs": [
    {
     "name": "stdout",
     "output_type": "stream",
     "text": [
      "✓ Saved to data/perpendicular_sweep_results.csv\n"
     ]
    }
   ],
   "source": [
    "df.to_csv('data/perpendicular_sweep_results.csv', index=False)\n",
    "print(\"✓ Saved to data/perpendicular_sweep_results.csv\")"
   ]
  },
  {
   "cell_type": "markdown",
   "id": "8qw3h3qi4wg",
   "metadata": {},
   "source": [
    "## Linear regression analysis\n",
    "\n",
    "Quantify how flat the perpendicular direction is within the coherent regime (-7 to +7)."
   ]
  },
  {
   "cell_type": "code",
   "execution_count": 25,
   "id": "pvhhjulczgg",
   "metadata": {},
   "outputs": [
    {
     "name": "stdout",
     "output_type": "stream",
     "text": [
      "Linear Regression Analysis (β ∈ [-7, 7])\n",
      "==================================================\n",
      "Slope: -0.1266 grade levels per β unit\n",
      "Intercept: 12.6050\n",
      "R²: 0.2154\n",
      "P-value: 8.1413e-02\n",
      "Standard error: 0.0670\n",
      "\n",
      "Interpretation:\n",
      "  - For comparison, V_complexity has slope ≈ 2.4 GL/α\n",
      "  - V_perpendicular has slope = -0.1266 GL/β\n",
      "  - V_perp effect is 19.0x smaller than V_complexity\n",
      "  - R² = 0.2154 indicates weak linear relationship\n"
     ]
    }
   ],
   "source": [
    "from scipy import stats\n",
    "\n",
    "# Filter to coherent regime (-7 to +7)\n",
    "df_coherent = df[(df['beta'] >= -7) & (df['beta'] <= 7)].copy()\n",
    "\n",
    "# Linear regression\n",
    "slope, intercept, r_value, p_value, std_err = stats.linregress(\n",
    "    df_coherent['beta'], \n",
    "    df_coherent['flesch_kincaid_grade']\n",
    ")\n",
    "\n",
    "r_squared = r_value**2\n",
    "\n",
    "print(\"Linear Regression Analysis (β ∈ [-7, 7])\")\n",
    "print(\"=\" * 50)\n",
    "print(f\"Slope: {slope:.4f} grade levels per β unit\")\n",
    "print(f\"Intercept: {intercept:.4f}\")\n",
    "print(f\"R²: {r_squared:.4f}\")\n",
    "print(f\"P-value: {p_value:.4e}\")\n",
    "print(f\"Standard error: {std_err:.4f}\")\n",
    "print()\n",
    "print(\"Interpretation:\")\n",
    "print(f\"  - For comparison, V_complexity has slope ≈ 2.4 GL/α\")\n",
    "print(f\"  - V_perpendicular has slope = {slope:.4f} GL/β\")\n",
    "print(f\"  - V_perp effect is {abs(2.4/slope):.1f}x smaller than V_complexity\" if slope != 0 else \"  - V_perp has zero effect!\")\n",
    "print(f\"  - R² = {r_squared:.4f} indicates {'strong' if r_squared > 0.7 else 'moderate' if r_squared > 0.4 else 'weak'} linear relationship\")"
   ]
  }
 ],
 "metadata": {
  "kernelspec": {
   "display_name": "llmsonar",
   "language": "python",
   "name": "python3"
  },
  "language_info": {
   "codemirror_mode": {
    "name": "ipython",
    "version": 3
   },
   "file_extension": ".py",
   "mimetype": "text/x-python",
   "name": "python",
   "nbconvert_exporter": "python",
   "pygments_lexer": "ipython3",
   "version": "3.14.0"
  }
 },
 "nbformat": 4,
 "nbformat_minor": 5
}
