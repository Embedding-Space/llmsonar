{
 "cells": [
  {
   "cell_type": "markdown",
   "id": "1",
   "metadata": {},
   "source": [
    "# Construct Perpendicular Vector\n",
    "\n",
    "This notebook constructs a vector orthogonal to V_complexity for 2D activation space exploration. We know in advance that the V_complexity we want is the mean difference vector from the model's last layer.\n",
    "\n",
    "**Method:** Gram-Schmidt orthogonalization in float32 precision with random seed 42.\n",
    "\n",
    "**Output:** `vectors/perpendicular_vector.pt` - V_perpendicular as bfloat16 tensor"
   ]
  },
  {
   "cell_type": "code",
   "execution_count": 1,
   "id": "2",
   "metadata": {},
   "outputs": [],
   "source": [
    "import torch\n",
    "import numpy as np"
   ]
  },
  {
   "cell_type": "markdown",
   "id": "3",
   "metadata": {},
   "source": [
    "## Load the complexity vector"
   ]
  },
  {
   "cell_type": "code",
   "execution_count": 2,
   "id": "4",
   "metadata": {},
   "outputs": [
    {
     "name": "stdout",
     "output_type": "stream",
     "text": [
      "Shape: torch.Size([3072])\n",
      "Dtype: torch.bfloat16\n",
      "L2 norm: 9.8750\n"
     ]
    }
   ],
   "source": [
    "# Load all vectors\n",
    "vectors = torch.load('vectors/complexity_vectors.pt')\n",
    "\n",
    "# Extract layer 27 (highest magnitude)\n",
    "v_complexity = vectors[27]\n",
    "\n",
    "print(f\"Shape: {v_complexity.shape}\")\n",
    "print(f\"Dtype: {v_complexity.dtype}\")\n",
    "print(f\"L2 norm: {torch.norm(v_complexity).item():.4f}\")"
   ]
  },
  {
   "cell_type": "markdown",
   "id": "5",
   "metadata": {},
   "source": [
    "## Construct an orthogonal vector\n",
    "\n",
    "We'll use Gram-Schmidt orthogonalization in float32 precision to construct a vector orthogonal to V_complexity."
   ]
  },
  {
   "cell_type": "code",
   "execution_count": 3,
   "id": "x1dzqbpgpc",
   "metadata": {},
   "outputs": [
    {
     "name": "stdout",
     "output_type": "stream",
     "text": [
      "V_perpendicular (f32) L2 norm: 55.0698\n",
      "Dot product (should be ~0): 9.5367431640625e-07\n",
      "Orthogonal? True\n"
     ]
    }
   ],
   "source": [
    "# Convert to float32\n",
    "v_complexity_f32 = v_complexity.float()\n",
    "v_random_f32 = torch.randn_like(v_complexity_f32)\n",
    "\n",
    "# Set seed for reproducibility\n",
    "torch.manual_seed(42)\n",
    "v_random_f32 = torch.randn_like(v_complexity_f32)\n",
    "\n",
    "# Gram-Schmidt in float32\n",
    "dot_product_f32 = torch.dot(v_random_f32, v_complexity_f32)\n",
    "norm_squared_f32 = torch.dot(v_complexity_f32, v_complexity_f32)\n",
    "projection_f32 = (dot_product_f32 / norm_squared_f32) * v_complexity_f32\n",
    "v_perpendicular_f32 = v_random_f32 - projection_f32\n",
    "\n",
    "# Check orthogonality\n",
    "orthogonality_check_f32 = torch.dot(v_complexity_f32, v_perpendicular_f32).item()\n",
    "\n",
    "print(f\"V_perpendicular (f32) L2 norm: {torch.norm(v_perpendicular_f32).item():.4f}\")\n",
    "print(f\"Dot product (should be ~0): {orthogonality_check_f32}\")\n",
    "print(f\"Orthogonal? {abs(orthogonality_check_f32) < 1e-4}\")"
   ]
  },
  {
   "cell_type": "markdown",
   "id": "kupidzoyn",
   "metadata": {},
   "source": [
    "## Save the perpendicular vector\n",
    "\n",
    "Convert back to bfloat16 to match V_complexity and save for downstream use."
   ]
  },
  {
   "cell_type": "code",
   "execution_count": 4,
   "id": "7cli90eedqj",
   "metadata": {},
   "outputs": [
    {
     "name": "stdout",
     "output_type": "stream",
     "text": [
      "Saved V_perpendicular to vectors/perpendicular_vector.pt\n",
      "Shape: torch.Size([3072])\n",
      "Dtype: torch.bfloat16\n",
      "L2 norm: 55.0000\n"
     ]
    }
   ],
   "source": [
    "# Convert back to bfloat16 to match the complexity vector\n",
    "v_perpendicular_bf16 = v_perpendicular_f32.bfloat16()\n",
    "\n",
    "# Save to file\n",
    "torch.save(v_perpendicular_bf16, 'vectors/perpendicular_vector.pt')\n",
    "\n",
    "print(f\"Saved V_perpendicular to vectors/perpendicular_vector.pt\")\n",
    "print(f\"Shape: {v_perpendicular_bf16.shape}\")\n",
    "print(f\"Dtype: {v_perpendicular_bf16.dtype}\")\n",
    "print(f\"L2 norm: {torch.norm(v_perpendicular_bf16).item():.4f}\")"
   ]
  }
 ],
 "metadata": {
  "kernelspec": {
   "display_name": "llmsonar",
   "language": "python",
   "name": "python3"
  },
  "language_info": {
   "codemirror_mode": {
    "name": "ipython",
    "version": 3
   },
   "file_extension": ".py",
   "mimetype": "text/x-python",
   "name": "python",
   "nbconvert_exporter": "python",
   "pygments_lexer": "ipython3",
   "version": "3.14.0"
  }
 },
 "nbformat": 4,
 "nbformat_minor": 5
}
